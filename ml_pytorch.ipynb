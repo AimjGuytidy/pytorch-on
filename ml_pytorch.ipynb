{
  "nbformat": 4,
  "nbformat_minor": 0,
  "metadata": {
    "colab": {
      "provenance": [],
      "authorship_tag": "ABX9TyOhFFvznd3EkUQMzQ9TKzq2",
      "include_colab_link": true
    },
    "kernelspec": {
      "name": "python3",
      "display_name": "Python 3"
    },
    "language_info": {
      "name": "python"
    }
  },
  "cells": [
    {
      "cell_type": "markdown",
      "metadata": {
        "id": "view-in-github",
        "colab_type": "text"
      },
      "source": [
        "<a href=\"https://colab.research.google.com/github/AimjGuytidy/pytorch-on/blob/main/ml_pytorch.ipynb\" target=\"_parent\"><img src=\"https://colab.research.google.com/assets/colab-badge.svg\" alt=\"Open In Colab\"/></a>"
      ]
    },
    {
      "cell_type": "markdown",
      "source": [
        "## Simple ML Algo for Classification"
      ],
      "metadata": {
        "id": "eVYeA8kwrmMi"
      }
    },
    {
      "cell_type": "markdown",
      "source": [
        "### Implementing a perceptron learning algorithm"
      ],
      "metadata": {
        "id": "HQ21p-j6r3S-"
      }
    },
    {
      "cell_type": "code",
      "source": [],
      "metadata": {
        "id": "a0DAwRoC4jjY"
      },
      "execution_count": null,
      "outputs": []
    }
  ]
}