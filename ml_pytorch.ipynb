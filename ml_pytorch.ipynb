{
  "nbformat": 4,
  "nbformat_minor": 0,
  "metadata": {
    "colab": {
      "provenance": [],
      "authorship_tag": "ABX9TyNwIp3b6I31rlzKdkv/O2G0",
      "include_colab_link": true
    },
    "kernelspec": {
      "name": "python3",
      "display_name": "Python 3"
    },
    "language_info": {
      "name": "python"
    }
  },
  "cells": [
    {
      "cell_type": "markdown",
      "metadata": {
        "id": "view-in-github",
        "colab_type": "text"
      },
      "source": [
        "<a href=\"https://colab.research.google.com/github/AimjGuytidy/pytorch-on/blob/main/ml_pytorch.ipynb\" target=\"_parent\"><img src=\"https://colab.research.google.com/assets/colab-badge.svg\" alt=\"Open In Colab\"/></a>"
      ]
    },
    {
      "cell_type": "markdown",
      "source": [
        "## Simple ML Algo for Classification"
      ],
      "metadata": {
        "id": "eVYeA8kwrmMi"
      }
    },
    {
      "cell_type": "markdown",
      "source": [
        "### Implementing a perceptron learning algorithm"
      ],
      "metadata": {
        "id": "HQ21p-j6r3S-"
      }
    },
    {
      "cell_type": "code",
      "source": [
        "import numpy as np"
      ],
      "metadata": {
        "id": "a0DAwRoC4jjY"
      },
      "execution_count": 3,
      "outputs": []
    },
    {
      "cell_type": "code",
      "source": [
        "class Perceptron:\n",
        "  def __init__(self,lr=0.01,n_iter = 50,random_state = 1):\n",
        "    self.lr = lr\n",
        "    self.n_iter = n_iter\n",
        "    self.random_state = random_state\n",
        "  def fit(self,X,y):\n",
        "    rgen = np.random.RandomState(self.random_state)\n",
        "    self.w_ = rgen.normal(loc=0.0,scale = 0.01,size=X.shape[1])\n",
        "    self.b_ = np.float_(0.)\n",
        "    self.errors_ = []\n",
        "    for _ in range(self.n_iter):\n",
        "      errors = 0\n",
        "      for xi,target in zip(X,y):\n",
        "        update = self.lr*(target - self.predict(xi))\n",
        "        self.w_ += update * xi\n",
        "        self.b_ += update\n",
        "        errors += int(update != 0.0)\n",
        "      self.errors_.append(errors)\n",
        "    return self\n",
        "  def n_input(self,X):\n",
        "    return np.dot(X,self.w_) + self.b_\n",
        "  def predict(self,X):\n",
        "    return np.where(self.n_input(X) >= 0.0,1,0)"
      ],
      "metadata": {
        "colab": {
          "base_uri": "https://localhost:8080/"
        },
        "id": "zBYSElS5DJBg",
        "outputId": "fae1027b-1d3f-48f9-b6b4-24537bc9d74d"
      },
      "execution_count": 2,
      "outputs": [
        {
          "output_type": "execute_result",
          "data": {
            "text/plain": [
              "0"
            ]
          },
          "metadata": {},
          "execution_count": 2
        }
      ]
    },
    {
      "cell_type": "code",
      "source": [],
      "metadata": {
        "id": "kCVptm6wDOvD"
      },
      "execution_count": null,
      "outputs": []
    }
  ]
}