{
  "nbformat": 4,
  "nbformat_minor": 0,
  "metadata": {
    "colab": {
      "provenance": [],
      "authorship_tag": "ABX9TyNK9oU9frGo9lnYtYUKB5t1",
      "include_colab_link": true
    },
    "kernelspec": {
      "name": "python3",
      "display_name": "Python 3"
    },
    "language_info": {
      "name": "python"
    }
  },
  "cells": [
    {
      "cell_type": "markdown",
      "metadata": {
        "id": "view-in-github",
        "colab_type": "text"
      },
      "source": [
        "<a href=\"https://colab.research.google.com/github/AimjGuytidy/pytorch-on/blob/main/ml_pytorch.ipynb\" target=\"_parent\"><img src=\"https://colab.research.google.com/assets/colab-badge.svg\" alt=\"Open In Colab\"/></a>"
      ]
    },
    {
      "cell_type": "markdown",
      "source": [
        "## Simple ML Algo for Classification"
      ],
      "metadata": {
        "id": "eVYeA8kwrmMi"
      }
    },
    {
      "cell_type": "markdown",
      "source": [
        "### Implementing a perceptron learning algorithm"
      ],
      "metadata": {
        "id": "HQ21p-j6r3S-"
      }
    },
    {
      "cell_type": "code",
      "source": [
        "import numpy as np"
      ],
      "metadata": {
        "id": "a0DAwRoC4jjY"
      },
      "execution_count": 2,
      "outputs": []
    },
    {
      "cell_type": "code",
      "source": [
        "class Perceptron:\n",
        "  def __init__(self,lr=0.01,n_iter = 50,random_state = 1):\n",
        "    self.lr = lr\n",
        "    self.n_iter = n_iter\n",
        "    self.random_state = random_state\n",
        "  def fit(self,X,y):\n",
        "    rgen = np.random.RandomState(self.random_state)\n",
        "    self.w_ = rgen.normal(loc=0.0,scale = 0.01,size=X.shape[1])\n",
        "    self.b_ = np.float_(0.)\n",
        "    self.errors_ = []\n",
        "    for _ in range(self.n_iter):\n",
        "      errors = 0\n",
        "      for xi,target in zip(X,y):\n",
        "        update = self.lr*(target - self.predict(xi))\n",
        "        self.w_ += update * xi\n",
        "        self.b_ += update\n",
        "        errors += int(update != 0.0)\n",
        "      self.errors_.append(errors)\n",
        "    return self\n",
        "  def n_input(self,X):\n",
        "    return np.dot(X,self.w_) + self.b_\n",
        "  def predict(self,X):\n",
        "    return np.where(self.n_input(X) >= 0.0,1,0)"
      ],
      "metadata": {
        "id": "zBYSElS5DJBg"
      },
      "execution_count": 3,
      "outputs": []
    },
    {
      "cell_type": "markdown",
      "source": [
        "### Training a perceptron model on the Iris dataset"
      ],
      "metadata": {
        "id": "kCVptm6wDOvD"
      }
    },
    {
      "cell_type": "markdown",
      "source": [
        "The perceptron model we created is a binary classifier model!! however it can be extended to a One versus All method!!"
      ],
      "metadata": {
        "id": "fQ3OmrSzUTzF"
      }
    },
    {
      "cell_type": "code",
      "source": [
        "import os\n",
        "import pandas as pd"
      ],
      "metadata": {
        "id": "vFhG1RaoUsTP"
      },
      "execution_count": 4,
      "outputs": []
    },
    {
      "cell_type": "code",
      "source": [
        "url = \"https://archive.ics.uci.edu/ml/machine\"\\\n",
        "      \"-learning-databases/iris/iris.data\"\n",
        "print(\"From URL:\",url)"
      ],
      "metadata": {
        "colab": {
          "base_uri": "https://localhost:8080/"
        },
        "id": "ibrqwsFrWWPQ",
        "outputId": "954db2be-9940-4e00-92e0-c9e667a32634"
      },
      "execution_count": 5,
      "outputs": [
        {
          "output_type": "stream",
          "name": "stdout",
          "text": [
            "From URL: https://archive.ics.uci.edu/ml/machine-learning-databases/iris/iris.data\n"
          ]
        }
      ]
    },
    {
      "cell_type": "code",
      "source": [
        "df = pd.read_csv(url,header=None,encoding = \"utf-8\")\n",
        "df.tail()"
      ],
      "metadata": {
        "colab": {
          "base_uri": "https://localhost:8080/",
          "height": 206
        },
        "id": "FxF_VqWbWjX3",
        "outputId": "4c3a7c26-6cc8-4131-f226-86cc8e059a9a"
      },
      "execution_count": 6,
      "outputs": [
        {
          "output_type": "execute_result",
          "data": {
            "text/plain": [
              "       0    1    2    3               4\n",
              "145  6.7  3.0  5.2  2.3  Iris-virginica\n",
              "146  6.3  2.5  5.0  1.9  Iris-virginica\n",
              "147  6.5  3.0  5.2  2.0  Iris-virginica\n",
              "148  6.2  3.4  5.4  2.3  Iris-virginica\n",
              "149  5.9  3.0  5.1  1.8  Iris-virginica"
            ],
            "text/html": [
              "\n",
              "  <div id=\"df-f5185e39-098c-4658-8f77-1c91323e3e3d\">\n",
              "    <div class=\"colab-df-container\">\n",
              "      <div>\n",
              "<style scoped>\n",
              "    .dataframe tbody tr th:only-of-type {\n",
              "        vertical-align: middle;\n",
              "    }\n",
              "\n",
              "    .dataframe tbody tr th {\n",
              "        vertical-align: top;\n",
              "    }\n",
              "\n",
              "    .dataframe thead th {\n",
              "        text-align: right;\n",
              "    }\n",
              "</style>\n",
              "<table border=\"1\" class=\"dataframe\">\n",
              "  <thead>\n",
              "    <tr style=\"text-align: right;\">\n",
              "      <th></th>\n",
              "      <th>0</th>\n",
              "      <th>1</th>\n",
              "      <th>2</th>\n",
              "      <th>3</th>\n",
              "      <th>4</th>\n",
              "    </tr>\n",
              "  </thead>\n",
              "  <tbody>\n",
              "    <tr>\n",
              "      <th>145</th>\n",
              "      <td>6.7</td>\n",
              "      <td>3.0</td>\n",
              "      <td>5.2</td>\n",
              "      <td>2.3</td>\n",
              "      <td>Iris-virginica</td>\n",
              "    </tr>\n",
              "    <tr>\n",
              "      <th>146</th>\n",
              "      <td>6.3</td>\n",
              "      <td>2.5</td>\n",
              "      <td>5.0</td>\n",
              "      <td>1.9</td>\n",
              "      <td>Iris-virginica</td>\n",
              "    </tr>\n",
              "    <tr>\n",
              "      <th>147</th>\n",
              "      <td>6.5</td>\n",
              "      <td>3.0</td>\n",
              "      <td>5.2</td>\n",
              "      <td>2.0</td>\n",
              "      <td>Iris-virginica</td>\n",
              "    </tr>\n",
              "    <tr>\n",
              "      <th>148</th>\n",
              "      <td>6.2</td>\n",
              "      <td>3.4</td>\n",
              "      <td>5.4</td>\n",
              "      <td>2.3</td>\n",
              "      <td>Iris-virginica</td>\n",
              "    </tr>\n",
              "    <tr>\n",
              "      <th>149</th>\n",
              "      <td>5.9</td>\n",
              "      <td>3.0</td>\n",
              "      <td>5.1</td>\n",
              "      <td>1.8</td>\n",
              "      <td>Iris-virginica</td>\n",
              "    </tr>\n",
              "  </tbody>\n",
              "</table>\n",
              "</div>\n",
              "      <button class=\"colab-df-convert\" onclick=\"convertToInteractive('df-f5185e39-098c-4658-8f77-1c91323e3e3d')\"\n",
              "              title=\"Convert this dataframe to an interactive table.\"\n",
              "              style=\"display:none;\">\n",
              "        \n",
              "  <svg xmlns=\"http://www.w3.org/2000/svg\" height=\"24px\"viewBox=\"0 0 24 24\"\n",
              "       width=\"24px\">\n",
              "    <path d=\"M0 0h24v24H0V0z\" fill=\"none\"/>\n",
              "    <path d=\"M18.56 5.44l.94 2.06.94-2.06 2.06-.94-2.06-.94-.94-2.06-.94 2.06-2.06.94zm-11 1L8.5 8.5l.94-2.06 2.06-.94-2.06-.94L8.5 2.5l-.94 2.06-2.06.94zm10 10l.94 2.06.94-2.06 2.06-.94-2.06-.94-.94-2.06-.94 2.06-2.06.94z\"/><path d=\"M17.41 7.96l-1.37-1.37c-.4-.4-.92-.59-1.43-.59-.52 0-1.04.2-1.43.59L10.3 9.45l-7.72 7.72c-.78.78-.78 2.05 0 2.83L4 21.41c.39.39.9.59 1.41.59.51 0 1.02-.2 1.41-.59l7.78-7.78 2.81-2.81c.8-.78.8-2.07 0-2.86zM5.41 20L4 18.59l7.72-7.72 1.47 1.35L5.41 20z\"/>\n",
              "  </svg>\n",
              "      </button>\n",
              "      \n",
              "  <style>\n",
              "    .colab-df-container {\n",
              "      display:flex;\n",
              "      flex-wrap:wrap;\n",
              "      gap: 12px;\n",
              "    }\n",
              "\n",
              "    .colab-df-convert {\n",
              "      background-color: #E8F0FE;\n",
              "      border: none;\n",
              "      border-radius: 50%;\n",
              "      cursor: pointer;\n",
              "      display: none;\n",
              "      fill: #1967D2;\n",
              "      height: 32px;\n",
              "      padding: 0 0 0 0;\n",
              "      width: 32px;\n",
              "    }\n",
              "\n",
              "    .colab-df-convert:hover {\n",
              "      background-color: #E2EBFA;\n",
              "      box-shadow: 0px 1px 2px rgba(60, 64, 67, 0.3), 0px 1px 3px 1px rgba(60, 64, 67, 0.15);\n",
              "      fill: #174EA6;\n",
              "    }\n",
              "\n",
              "    [theme=dark] .colab-df-convert {\n",
              "      background-color: #3B4455;\n",
              "      fill: #D2E3FC;\n",
              "    }\n",
              "\n",
              "    [theme=dark] .colab-df-convert:hover {\n",
              "      background-color: #434B5C;\n",
              "      box-shadow: 0px 1px 3px 1px rgba(0, 0, 0, 0.15);\n",
              "      filter: drop-shadow(0px 1px 2px rgba(0, 0, 0, 0.3));\n",
              "      fill: #FFFFFF;\n",
              "    }\n",
              "  </style>\n",
              "\n",
              "      <script>\n",
              "        const buttonEl =\n",
              "          document.querySelector('#df-f5185e39-098c-4658-8f77-1c91323e3e3d button.colab-df-convert');\n",
              "        buttonEl.style.display =\n",
              "          google.colab.kernel.accessAllowed ? 'block' : 'none';\n",
              "\n",
              "        async function convertToInteractive(key) {\n",
              "          const element = document.querySelector('#df-f5185e39-098c-4658-8f77-1c91323e3e3d');\n",
              "          const dataTable =\n",
              "            await google.colab.kernel.invokeFunction('convertToInteractive',\n",
              "                                                     [key], {});\n",
              "          if (!dataTable) return;\n",
              "\n",
              "          const docLinkHtml = 'Like what you see? Visit the ' +\n",
              "            '<a target=\"_blank\" href=https://colab.research.google.com/notebooks/data_table.ipynb>data table notebook</a>'\n",
              "            + ' to learn more about interactive tables.';\n",
              "          element.innerHTML = '';\n",
              "          dataTable['output_type'] = 'display_data';\n",
              "          await google.colab.output.renderOutput(dataTable, element);\n",
              "          const docLink = document.createElement('div');\n",
              "          docLink.innerHTML = docLinkHtml;\n",
              "          element.appendChild(docLink);\n",
              "        }\n",
              "      </script>\n",
              "    </div>\n",
              "  </div>\n",
              "  "
            ]
          },
          "metadata": {},
          "execution_count": 6
        }
      ]
    },
    {
      "cell_type": "code",
      "source": [
        "df.info()"
      ],
      "metadata": {
        "colab": {
          "base_uri": "https://localhost:8080/"
        },
        "id": "Zf0-9zZNW1uf",
        "outputId": "802f3cf3-165c-4dc1-c374-89a0b59a0d37"
      },
      "execution_count": 7,
      "outputs": [
        {
          "output_type": "stream",
          "name": "stdout",
          "text": [
            "<class 'pandas.core.frame.DataFrame'>\n",
            "RangeIndex: 150 entries, 0 to 149\n",
            "Data columns (total 5 columns):\n",
            " #   Column  Non-Null Count  Dtype  \n",
            "---  ------  --------------  -----  \n",
            " 0   0       150 non-null    float64\n",
            " 1   1       150 non-null    float64\n",
            " 2   2       150 non-null    float64\n",
            " 3   3       150 non-null    float64\n",
            " 4   4       150 non-null    object \n",
            "dtypes: float64(4), object(1)\n",
            "memory usage: 6.0+ KB\n"
          ]
        }
      ]
    },
    {
      "cell_type": "code",
      "source": [
        "df.describe()"
      ],
      "metadata": {
        "colab": {
          "base_uri": "https://localhost:8080/",
          "height": 300
        },
        "id": "07GiZ7RSW7h1",
        "outputId": "d3defcf3-e83b-4ad8-8a0c-df05711d2219"
      },
      "execution_count": 8,
      "outputs": [
        {
          "output_type": "execute_result",
          "data": {
            "text/plain": [
              "                0           1           2           3\n",
              "count  150.000000  150.000000  150.000000  150.000000\n",
              "mean     5.843333    3.054000    3.758667    1.198667\n",
              "std      0.828066    0.433594    1.764420    0.763161\n",
              "min      4.300000    2.000000    1.000000    0.100000\n",
              "25%      5.100000    2.800000    1.600000    0.300000\n",
              "50%      5.800000    3.000000    4.350000    1.300000\n",
              "75%      6.400000    3.300000    5.100000    1.800000\n",
              "max      7.900000    4.400000    6.900000    2.500000"
            ],
            "text/html": [
              "\n",
              "  <div id=\"df-9b536a29-254a-4d09-b2fa-f030682766de\">\n",
              "    <div class=\"colab-df-container\">\n",
              "      <div>\n",
              "<style scoped>\n",
              "    .dataframe tbody tr th:only-of-type {\n",
              "        vertical-align: middle;\n",
              "    }\n",
              "\n",
              "    .dataframe tbody tr th {\n",
              "        vertical-align: top;\n",
              "    }\n",
              "\n",
              "    .dataframe thead th {\n",
              "        text-align: right;\n",
              "    }\n",
              "</style>\n",
              "<table border=\"1\" class=\"dataframe\">\n",
              "  <thead>\n",
              "    <tr style=\"text-align: right;\">\n",
              "      <th></th>\n",
              "      <th>0</th>\n",
              "      <th>1</th>\n",
              "      <th>2</th>\n",
              "      <th>3</th>\n",
              "    </tr>\n",
              "  </thead>\n",
              "  <tbody>\n",
              "    <tr>\n",
              "      <th>count</th>\n",
              "      <td>150.000000</td>\n",
              "      <td>150.000000</td>\n",
              "      <td>150.000000</td>\n",
              "      <td>150.000000</td>\n",
              "    </tr>\n",
              "    <tr>\n",
              "      <th>mean</th>\n",
              "      <td>5.843333</td>\n",
              "      <td>3.054000</td>\n",
              "      <td>3.758667</td>\n",
              "      <td>1.198667</td>\n",
              "    </tr>\n",
              "    <tr>\n",
              "      <th>std</th>\n",
              "      <td>0.828066</td>\n",
              "      <td>0.433594</td>\n",
              "      <td>1.764420</td>\n",
              "      <td>0.763161</td>\n",
              "    </tr>\n",
              "    <tr>\n",
              "      <th>min</th>\n",
              "      <td>4.300000</td>\n",
              "      <td>2.000000</td>\n",
              "      <td>1.000000</td>\n",
              "      <td>0.100000</td>\n",
              "    </tr>\n",
              "    <tr>\n",
              "      <th>25%</th>\n",
              "      <td>5.100000</td>\n",
              "      <td>2.800000</td>\n",
              "      <td>1.600000</td>\n",
              "      <td>0.300000</td>\n",
              "    </tr>\n",
              "    <tr>\n",
              "      <th>50%</th>\n",
              "      <td>5.800000</td>\n",
              "      <td>3.000000</td>\n",
              "      <td>4.350000</td>\n",
              "      <td>1.300000</td>\n",
              "    </tr>\n",
              "    <tr>\n",
              "      <th>75%</th>\n",
              "      <td>6.400000</td>\n",
              "      <td>3.300000</td>\n",
              "      <td>5.100000</td>\n",
              "      <td>1.800000</td>\n",
              "    </tr>\n",
              "    <tr>\n",
              "      <th>max</th>\n",
              "      <td>7.900000</td>\n",
              "      <td>4.400000</td>\n",
              "      <td>6.900000</td>\n",
              "      <td>2.500000</td>\n",
              "    </tr>\n",
              "  </tbody>\n",
              "</table>\n",
              "</div>\n",
              "      <button class=\"colab-df-convert\" onclick=\"convertToInteractive('df-9b536a29-254a-4d09-b2fa-f030682766de')\"\n",
              "              title=\"Convert this dataframe to an interactive table.\"\n",
              "              style=\"display:none;\">\n",
              "        \n",
              "  <svg xmlns=\"http://www.w3.org/2000/svg\" height=\"24px\"viewBox=\"0 0 24 24\"\n",
              "       width=\"24px\">\n",
              "    <path d=\"M0 0h24v24H0V0z\" fill=\"none\"/>\n",
              "    <path d=\"M18.56 5.44l.94 2.06.94-2.06 2.06-.94-2.06-.94-.94-2.06-.94 2.06-2.06.94zm-11 1L8.5 8.5l.94-2.06 2.06-.94-2.06-.94L8.5 2.5l-.94 2.06-2.06.94zm10 10l.94 2.06.94-2.06 2.06-.94-2.06-.94-.94-2.06-.94 2.06-2.06.94z\"/><path d=\"M17.41 7.96l-1.37-1.37c-.4-.4-.92-.59-1.43-.59-.52 0-1.04.2-1.43.59L10.3 9.45l-7.72 7.72c-.78.78-.78 2.05 0 2.83L4 21.41c.39.39.9.59 1.41.59.51 0 1.02-.2 1.41-.59l7.78-7.78 2.81-2.81c.8-.78.8-2.07 0-2.86zM5.41 20L4 18.59l7.72-7.72 1.47 1.35L5.41 20z\"/>\n",
              "  </svg>\n",
              "      </button>\n",
              "      \n",
              "  <style>\n",
              "    .colab-df-container {\n",
              "      display:flex;\n",
              "      flex-wrap:wrap;\n",
              "      gap: 12px;\n",
              "    }\n",
              "\n",
              "    .colab-df-convert {\n",
              "      background-color: #E8F0FE;\n",
              "      border: none;\n",
              "      border-radius: 50%;\n",
              "      cursor: pointer;\n",
              "      display: none;\n",
              "      fill: #1967D2;\n",
              "      height: 32px;\n",
              "      padding: 0 0 0 0;\n",
              "      width: 32px;\n",
              "    }\n",
              "\n",
              "    .colab-df-convert:hover {\n",
              "      background-color: #E2EBFA;\n",
              "      box-shadow: 0px 1px 2px rgba(60, 64, 67, 0.3), 0px 1px 3px 1px rgba(60, 64, 67, 0.15);\n",
              "      fill: #174EA6;\n",
              "    }\n",
              "\n",
              "    [theme=dark] .colab-df-convert {\n",
              "      background-color: #3B4455;\n",
              "      fill: #D2E3FC;\n",
              "    }\n",
              "\n",
              "    [theme=dark] .colab-df-convert:hover {\n",
              "      background-color: #434B5C;\n",
              "      box-shadow: 0px 1px 3px 1px rgba(0, 0, 0, 0.15);\n",
              "      filter: drop-shadow(0px 1px 2px rgba(0, 0, 0, 0.3));\n",
              "      fill: #FFFFFF;\n",
              "    }\n",
              "  </style>\n",
              "\n",
              "      <script>\n",
              "        const buttonEl =\n",
              "          document.querySelector('#df-9b536a29-254a-4d09-b2fa-f030682766de button.colab-df-convert');\n",
              "        buttonEl.style.display =\n",
              "          google.colab.kernel.accessAllowed ? 'block' : 'none';\n",
              "\n",
              "        async function convertToInteractive(key) {\n",
              "          const element = document.querySelector('#df-9b536a29-254a-4d09-b2fa-f030682766de');\n",
              "          const dataTable =\n",
              "            await google.colab.kernel.invokeFunction('convertToInteractive',\n",
              "                                                     [key], {});\n",
              "          if (!dataTable) return;\n",
              "\n",
              "          const docLinkHtml = 'Like what you see? Visit the ' +\n",
              "            '<a target=\"_blank\" href=https://colab.research.google.com/notebooks/data_table.ipynb>data table notebook</a>'\n",
              "            + ' to learn more about interactive tables.';\n",
              "          element.innerHTML = '';\n",
              "          dataTable['output_type'] = 'display_data';\n",
              "          await google.colab.output.renderOutput(dataTable, element);\n",
              "          const docLink = document.createElement('div');\n",
              "          docLink.innerHTML = docLinkHtml;\n",
              "          element.appendChild(docLink);\n",
              "        }\n",
              "      </script>\n",
              "    </div>\n",
              "  </div>\n",
              "  "
            ]
          },
          "metadata": {},
          "execution_count": 8
        }
      ]
    },
    {
      "cell_type": "code",
      "source": [
        "df[4].value_counts()"
      ],
      "metadata": {
        "colab": {
          "base_uri": "https://localhost:8080/"
        },
        "id": "SLE4d9TlXFUm",
        "outputId": "b7ba2d43-0019-4983-916a-924bd2362c46"
      },
      "execution_count": 9,
      "outputs": [
        {
          "output_type": "execute_result",
          "data": {
            "text/plain": [
              "Iris-setosa        50\n",
              "Iris-versicolor    50\n",
              "Iris-virginica     50\n",
              "Name: 4, dtype: int64"
            ]
          },
          "metadata": {},
          "execution_count": 9
        }
      ]
    },
    {
      "cell_type": "code",
      "source": [
        "import matplotlib.pyplot as plt"
      ],
      "metadata": {
        "id": "WrvuvlAXXNSG"
      },
      "execution_count": 10,
      "outputs": []
    },
    {
      "cell_type": "code",
      "source": [
        "X = df.iloc[:100,[0,2]].values\n",
        "y = df.iloc[:100,4].values\n",
        "y = np.where(y==\"Iris-setosa\",0,1)\n",
        "plt.scatter(X[:50,0],X[:50,1],color=\"red\",marker = \"o\",\n",
        "            label = \"Setosa\")\n",
        "plt.scatter(X[50:100,0],X[50:100,1],color = \"blue\",\n",
        "            marker = \"+\",label = \"Versicolor\")\n",
        "plt.xlabel(\"Sepal length [cm]\")\n",
        "plt.ylabel(\"Petal length [cm]\")\n",
        "plt.legend(loc=0)\n",
        "plt.show()"
      ],
      "metadata": {
        "colab": {
          "base_uri": "https://localhost:8080/",
          "height": 279
        },
        "id": "6X8JgxqkgNeC",
        "outputId": "e975d10d-19ac-47a7-b8ce-17245f95bf95"
      },
      "execution_count": 11,
      "outputs": [
        {
          "output_type": "display_data",
          "data": {
            "text/plain": [
              "<Figure size 432x288 with 1 Axes>"
            ],
            "image/png": "[encoded data removed]"
          },
          "metadata": {
            "needs_background": "light"
          }
        }
      ]
    },
    {
      "cell_type": "code",
      "source": [
        "ppn = Perceptron(lr = .1, n_iter = 10)\n",
        "ppn.fit(X,y)\n",
        "plt.plot(range(1,len(ppn.errors_)+1),\n",
        "         ppn.errors_,marker = \"o\")\n",
        "plt.xlabel(\"Epochs\")\n",
        "plt.ylabel(\"Errors\")\n",
        "plt.show()"
      ],
      "metadata": {
        "id": "XAJFUfedh7Rv",
        "colab": {
          "base_uri": "https://localhost:8080/",
          "height": 279
        },
        "outputId": "cb7711f1-752e-4429-8a30-b8f6faf5333c"
      },
      "execution_count": 12,
      "outputs": [
        {
          "output_type": "display_data",
          "data": {
            "text/plain": [
              "<Figure size 432x288 with 1 Axes>"
            ],
            "image/png": "[encoded data removed]"
          },
          "metadata": {
            "needs_background": "light"
          }
        }
      ]
    },
    {
      "cell_type": "code",
      "source": [
        "from matplotlib.colors import ListedColormap"
      ],
      "metadata": {
        "id": "UcVdi9lZOQsr"
      },
      "execution_count": 13,
      "outputs": []
    },
    {
      "cell_type": "code",
      "source": [
        "def plot_decision_regions(X,y,classifier,resolution = 0.02):\n",
        "  markers = [\"o\",\"s\",\"v\",\">\",\"^\"]\n",
        "  colors = [\"red\",\"blue\",\"green\",\"cyan\",\"grey\"]\n",
        "  cmap = ListedColormap(colors[:len(np.unique(y))])\n",
        "\n",
        "  x1_min, x1_max = X[:,0].min()-1,X[:,0].max()+1\n",
        "  x2_min,x2_max = X[:,1].min()-1,X[:1].max()+1\n",
        "\n",
        "  xx1,xx2 = np.meshgrid(np.arange(x1_min,x1_max,step=resolution),\n",
        "                        np.arange(x2_min,x2_max,step=resolution))\n",
        "  lab = classifier.predict(np.array([xx1.ravel(),xx2.ravel()]).T)\n",
        "  lab = lab.reshape(xx1.shape)\n",
        "  plt.contourf(xx1,xx2,lab,alpha = .3,cmap=cmap)\n",
        "  plt.xlim(xx1.min(),xx1.max())\n",
        "  plt.ylim(xx2.min(),xx2.max())\n",
        "  for idx,cl in enumerate(np.unique(y)):\n",
        "    plt.scatter(x=X[y==cl,0],\n",
        "                y = X[y==cl,1],alpha = .8,\n",
        "                c = colors[idx],\n",
        "                marker = markers[idx],\n",
        "                label = f\"class {cl}\",\n",
        "                edgecolor = \"black\")"
      ],
      "metadata": {
        "id": "Ezj11mS5SEU5"
      },
      "execution_count": 14,
      "outputs": []
    },
    {
      "cell_type": "code",
      "source": [
        "plot_decision_regions(X,y,ppn)\n",
        "plt.xlabel(\"Sepal length [cm]\")\n",
        "plt.ylabel(\"Petal length [cm]\")\n",
        "plt.legend(loc = 0)\n",
        "plt.show()"
      ],
      "metadata": {
        "colab": {
          "base_uri": "https://localhost:8080/",
          "height": 280
        },
        "id": "CK_W3w3VVRwg",
        "outputId": "053b282a-df71-44c8-ab5b-53fcdbee42b7"
      },
      "execution_count": 15,
      "outputs": [
        {
          "output_type": "display_data",
          "data": {
            "text/plain": [
              "<Figure size 432x288 with 1 Axes>"
            ],
            "image/png": "[encoded data removed]"
          },
          "metadata": {
            "needs_background": "light"
          }
        }
      ]
    },
    {
      "cell_type": "markdown",
      "source": [
        "### Adaptive linear neurons and the convergence of learning"
      ],
      "metadata": {
        "id": "XqanDpImVfF_"
      }
    },
    {
      "cell_type": "markdown",
      "source": [
        "Adaline: Adaptive Linear Neuron 🥰 <b/>\n",
        "\n",
        "The Adaline algorithm illustrates th key concepts of defining and minimizing continuous loss functions.\n",
        "The key difference between the Adaline rule and perceptron is that the weights are updated based on a linear activation function rather than a unit step function of the net input. so that σ(z) = z."
      ],
      "metadata": {
        "id": "K7RudHLlciu9"
      }
    },
    {
      "cell_type": "markdown",
      "source": [
        "#### Minimizing loss functions with gradient descent"
      ],
      "metadata": {
        "id": "Lm7mlVYAetDS"
      }
    },
    {
      "cell_type": "markdown",
      "source": [
        "For Adaline, the loss function L, is defined as the <b>mean squared error (MSE)</b> between the calculated outcome and the true class label:\n",
        "$$L(w,b) = \\frac{1}{2n}∑^{n}_{i = 1}(y^i - σ(z^i))^2$$\n",
        "given that our loss function is convex we can use <b>gradient descent</b> to find the weights that minimize our loss function.<br>\n",
        "$w:= w + Δw, b := b + Δb$ <br>\n",
        "$Δw = -ηΔ_{w}L(w,b), Δb = -ηΔ_{b}L(w,b)$\n"
      ],
      "metadata": {
        "id": "1SVw74bxfUpt"
      }
    },
    {
      "cell_type": "markdown",
      "source": [
        "#### Implementing Adaline in Python"
      ],
      "metadata": {
        "id": "Cy_VfVu6hWLc"
      }
    },
    {
      "cell_type": "code",
      "source": [
        "class AdalineGD:\n",
        "  def __init__(self,lr = 0.01,n_iter = 50,random_state = 1):\n",
        "    self.lr = lr\n",
        "    self.n_iter = n_iter\n",
        "    self.random_state = random_state\n",
        "  def fit(self,X,y):\n",
        "    rgen = np.random.RandomState(self.random_state)\n",
        "    self.w_ = rgen.normal(loc = 0.0, scale = 0.01,\n",
        "                          size = X.shape[1])\n",
        "    self.b_ = np.float_(0.)\n",
        "    self.losses_ = []\n",
        "    for _ in range(self.n_iter):\n",
        "      n_input = self.n_input(X)\n",
        "      output = self.activation(n_input)\n",
        "      errors = (y-output)\n",
        "      self.w_ += self.lr * 2 * X.T.dot(errors) / X.shape[0]\n",
        "      self.b_ += self.lr * 2 * errors.mean()\n",
        "      loss = (errors**2).mean()\n",
        "      self.losses_.append(loss)\n",
        "    return self\n",
        "\n",
        "  def n_input(self,X):\n",
        "    return np.dot(X,self.w_) + self.b_\n",
        "\n",
        "  def activation(self,X):\n",
        "    return X\n",
        "\n",
        "  def predict(self,X):\n",
        "    return np.where(self.activation(self.n_input(X)) >= 0.5,1,0)"
      ],
      "metadata": {
        "id": "3Swj_TFxky8g"
      },
      "execution_count": 16,
      "outputs": []
    },
    {
      "cell_type": "code",
      "source": [
        "X = df.iloc[:100,[0,2]].values\n",
        "y = df.iloc[:100,4].values\n",
        "y = np.where(y==\"Iris-setosa\",0,1)\n",
        "fig, ax = plt.subplots(nrows = 1, ncols = 2,figsize = (10,4))\n",
        "ada1 = AdalineGD(lr = 0.1,n_iter = 15).fit(X,y)\n",
        "ax[0].plot(range(1,len(ada1.losses_)+1),\n",
        "           np.log10(ada1.losses_),marker = \"o\")\n",
        "ax[0].set_xlabel(\"Epochs\")\n",
        "ax[0].set_ylabel(\"log(Mean squared error)\")\n",
        "ax[0].set_title(\"Adaline - learning rate 0.1\")\n",
        "ada2 = AdalineGD(lr = 0.0001, n_iter = 15).fit(X,y)\n",
        "ax[1].plot(range(1,len(ada2.losses_)+1),\n",
        "           ada2.losses_,marker = \"o\")\n",
        "ax[1].set_xlabel(\"Epochs\")\n",
        "ax[1].set_ylabel(\"Mean squared error\")\n",
        "ax[1].set_title(\"Adaline - learning rate 0.001\")\n",
        "plt.show()"
      ],
      "metadata": {
        "colab": {
          "base_uri": "https://localhost:8080/",
          "height": 295
        },
        "id": "js5M1mXxq1MW",
        "outputId": "10305b42-7465-404e-9dc6-f938e6589eee"
      },
      "execution_count": 17,
      "outputs": [
        {
          "output_type": "display_data",
          "data": {
            "text/plain": [
              "<Figure size 720x288 with 2 Axes>"
            ],
            "image/png": "[encoded data removed]"
          },
          "metadata": {
            "needs_background": "light"
          }
        }
      ]
    },
    {
      "cell_type": "markdown",
      "source": [
        "#### Improving gradient descent through feature scaling"
      ],
      "metadata": {
        "id": "4OckCSHA0fiy"
      }
    },
    {
      "cell_type": "code",
      "source": [
        "X_std = np.copy(X)\n",
        "X_std[:,0] = (X_std[:,0] - X_std[:,0].mean()) / X_std[:,0].std()\n",
        "X_std[:,1] = (X_std[:,1] - X_std[:,1].mean()) / X_std[:,1].std()"
      ],
      "metadata": {
        "id": "jkvrUF-D1md4"
      },
      "execution_count": 18,
      "outputs": []
    },
    {
      "cell_type": "code",
      "source": [
        "ada_gd = AdalineGD(lr = 0.5,n_iter = 20)\n",
        "ada_gd = ada_gd.fit(X_std,y)"
      ],
      "metadata": {
        "id": "wOiZwwwP7Ln-"
      },
      "execution_count": 19,
      "outputs": []
    },
    {
      "cell_type": "code",
      "source": [
        "plot_decision_regions(X_std,y,ada_gd)\n",
        "plt.xlabel(\"Sepal length [standardized]\")\n",
        "plt.ylabel(\"Petal length [standardized]\")\n",
        "plt.title(\"Adaline-Gradient descent\")\n",
        "plt.legend(loc = 0)\n",
        "plt.tight_layout()\n",
        "plt.show()\n",
        "plt.plot(range(1,len(ada_gd.losses_)+1),\n",
        "         ada_gd.losses_,marker = \"o\")\n",
        "plt.xlabel(\"Epochs\")\n",
        "plt.ylabel(\"Mean squared error\")\n",
        "plt.tight_layout()\n",
        "plt.show()\n"
      ],
      "metadata": {
        "colab": {
          "base_uri": "https://localhost:8080/",
          "height": 577
        },
        "id": "wgJ7I3ic7Z5e",
        "outputId": "a192433a-545b-4766-bb13-a0a558c3ed80"
      },
      "execution_count": 20,
      "outputs": [
        {
          "output_type": "display_data",
          "data": {
            "text/plain": [
              "<Figure size 432x288 with 1 Axes>"
            ],
            "image/png": "[encoded data removed]"
          },
          "metadata": {
            "needs_background": "light"
          }
        },
        {
          "output_type": "display_data",
          "data": {
            "text/plain": [
              "<Figure size 432x288 with 1 Axes>"
            ],
            "image/png": "[encoded data removed]"
          },
          "metadata": {
            "needs_background": "light"
          }
        }
      ]
    },
    {
      "cell_type": "markdown",
      "source": [
        "#### Large-scale machine learning and stochastic gradient descent"
      ],
      "metadata": {
        "id": "7pbBjBCX8qlt"
      }
    },
    {
      "cell_type": "code",
      "source": [
        "from re import M\n",
        "class AdalineSGD:\n",
        "  def __init__(self, lr = 0.01,n_iter = 50,shuffle = True,random_state = None):\n",
        "    self.lr = lr\n",
        "    self.n_iter = n_iter\n",
        "    self.shuffle = shuffle\n",
        "    self.random_state = random_state\n",
        "\n",
        "  def fit(self,X,y):\n",
        "    self._initialize_weights(X.shape[1])\n",
        "    self.losses_ = []\n",
        "    for _ in range(self.n_iter):\n",
        "      if self.shuffle:\n",
        "        self._shuffle(X,y)\n",
        "      losses = []\n",
        "      for xi,target in zip(X,y):\n",
        "        losses.append(self._update_weights(xi,target))\n",
        "      avg_loss = np.mean(losses)\n",
        "      self.losses_.append(avg_loss)\n",
        "    return self\n",
        "\n",
        "  def partial_fit(self,X,y):\n",
        "    if not self.w_initialized:\n",
        "      self._initialize_weights(X.shape[1])\n",
        "    if y.ravel().shape[0] > 1:\n",
        "      for xi,target in zip(X,y):\n",
        "        self._update_weights(xi,target)\n",
        "    else:\n",
        "      self._update_weights(X,y)\n",
        "    return self\n",
        "\n",
        "  def _shuffle(self,X,y):\n",
        "    r = self.rgen.permutation(len(y))\n",
        "    return X[r], y[r]\n",
        "\n",
        "  def _initialize_weights(self,m):\n",
        "    self.rgen = np.random.RandomState(self.random_state)\n",
        "    self.w_ = self.rgen.normal(loc = 0.0,scale = 0.01,size = m)\n",
        "    self.b_ = np.float_(0.)\n",
        "    self.w_initialized = True\n",
        "\n",
        "  def _update_weights(self,xi,target):\n",
        "    output = self.activation(self.n_input(xi))\n",
        "    errors = (target-output)\n",
        "    self.w_ += self.lr * 2. * errors * xi\n",
        "    self.b_ += self.lr * 2. * errors \n",
        "    loss = errors**2\n",
        "    return loss\n",
        "\n",
        "  def n_input(self,X):\n",
        "    return np.dot(X,self.w_) + self.b_\n",
        "\n",
        "  def activation(self,X):\n",
        "    return X\n",
        "    \n",
        "  def predict(self,X):\n",
        "    return np.where(self.activation(self.n_input(X))>=0.5,1,0)"
      ],
      "metadata": {
        "id": "nOOcFaeA9vu4"
      },
      "execution_count": 21,
      "outputs": []
    },
    {
      "cell_type": "code",
      "source": [
        "# let's visualize AdalineSGD\n",
        "ada_sgd = AdalineSGD(lr = 0.01,n_iter=15,random_state = 1)\n",
        "ada_sgd.fit(X_std,y)\n",
        "plot_decision_regions(X_std,y,ada_sgd,resolution=0.001)\n",
        "plt.ylim(-2.,2.)\n",
        "plt.xlabel(\"Sepal length [standardized]\")\n",
        "plt.ylabel(\"Petal length [standardized]\")\n",
        "plt.title(\"Adaline - Stochastic gradient descent\")\n",
        "plt.legend(loc=\"upper left\")\n",
        "plt.tight_layout()\n",
        "plt.show()\n",
        "\n",
        "plt.plot(range(1,len(ada_sgd.losses_)+1),ada_sgd.losses_,\n",
        "         marker = \"o\")\n",
        "plt.xlabel(\"Epochs\")\n",
        "plt.ylabel(\"Average loss\")\n",
        "plt.tight_layout()\n",
        "plt.show()"
      ],
      "metadata": {
        "colab": {
          "base_uri": "https://localhost:8080/",
          "height": 577
        },
        "id": "356Zkt1EFZyn",
        "outputId": "afae6bd0-aabb-4f8a-ad1d-39264095d348"
      },
      "execution_count": 22,
      "outputs": [
        {
          "output_type": "display_data",
          "data": {
            "text/plain": [
              "<Figure size 432x288 with 1 Axes>"
            ],
            "image/png": "[encoded data removed]"
          },
          "metadata": {
            "needs_background": "light"
          }
        },
        {
          "output_type": "display_data",
          "data": {
            "text/plain": [
              "<Figure size 432x288 with 1 Axes>"
            ],
            "image/png": "[encoded data removed]"
          },
          "metadata": {
            "needs_background": "light"
          }
        }
      ]
    },
    {
      "cell_type": "markdown",
      "source": [
        "Please check on the partial fit syntax and resolve the error!!"
      ],
      "metadata": {
        "id": "yA6bNLYYXf2T"
      }
    },
    {
      "cell_type": "code",
      "source": [],
      "metadata": {
        "id": "swIB8y-fX7d9"
      },
      "execution_count": null,
      "outputs": []
    }
  ]
}