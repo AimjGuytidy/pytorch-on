{
  "nbformat": 4,
  "nbformat_minor": 0,
  "metadata": {
    "colab": {
      "provenance": [],
      "authorship_tag": "ABX9TyOaG0hSdDOHRvLotRBZsk/a",
      "include_colab_link": true
    },
    "kernelspec": {
      "name": "python3",
      "display_name": "Python 3"
    },
    "language_info": {
      "name": "python"
    }
  },
  "cells": [
    {
      "cell_type": "markdown",
      "metadata": {
        "id": "view-in-github",
        "colab_type": "text"
      },
      "source": [
        "<a href=\"https://colab.research.google.com/github/AimjGuytidy/pytorch-on/blob/main/lazy_pytorch.ipynb\" target=\"_parent\"><img src=\"https://colab.research.google.com/assets/colab-badge.svg\" alt=\"Open In Colab\"/></a>"
      ]
    },
    {
      "cell_type": "code",
      "execution_count": 1,
      "metadata": {
        "id": "wDCBj_EHRDIc"
      },
      "outputs": [],
      "source": [
        " import torch\n",
        " import torch.nn as nn\n",
        " import numpy as np\n",
        " import pandas as pd\n",
        " import matplotlib.pyplot as plt"
      ]
    },
    {
      "cell_type": "markdown",
      "source": [
        "## Regression with pytorch"
      ],
      "metadata": {
        "id": "26aNazfjd7Wd"
      }
    },
    {
      "cell_type": "code",
      "source": [
        "# specify the sample size\n",
        "N = 20\n",
        "# create synthetic variable\n",
        "X = np.random.random(N) * 10 - 5\n",
        "# create target variable related to X\n",
        "Y = 0.5*X - 1 + np.random.randn(N)"
      ],
      "metadata": {
        "id": "hYzw2rShd__s"
      },
      "execution_count": 2,
      "outputs": []
    },
    {
      "cell_type": "code",
      "source": [
        "# let's visualize our data\n",
        "plt.scatter(X,Y)"
      ],
      "metadata": {
        "colab": {
          "base_uri": "https://localhost:8080/",
          "height": 282
        },
        "id": "ExrnAG-Bekb-",
        "outputId": "bd1b8346-7ebf-41f7-b3de-161170f2925a"
      },
      "execution_count": 3,
      "outputs": [
        {
          "output_type": "execute_result",
          "data": {
            "text/plain": [
              "<matplotlib.collections.PathCollection at 0x7f4c422a8820>"
            ]
          },
          "metadata": {},
          "execution_count": 3
        },
        {
          "output_type": "display_data",
          "data": {
            "text/plain": [
              "<Figure size 432x288 with 1 Axes>"
            ],
            "image/png": "[encoded data removed]"
          },
          "metadata": {
            "needs_background": "light"
          }
        }
      ]
    },
    {
      "cell_type": "code",
      "source": [
        "#create a model object\n",
        "model = nn.Linear(1,1)\n",
        "#create loss and optimizer objects\n",
        "criterion = nn.MSELoss()\n",
        "optimizer = torch.optim.SGD(model.parameters(),lr=0.01)\n",
        "#reshape and convert variables into tensors\n",
        "X = X.reshape(N,1)\n",
        "Y = Y.reshape(N,1)\n",
        "inputs = torch.from_numpy(X.astype(np.float32))\n",
        "targets = torch.from_numpy(Y.astype(np.float32))\n"
      ],
      "metadata": {
        "id": "_ZUet5vXeysB"
      },
      "execution_count": 9,
      "outputs": []
    },
    {
      "cell_type": "code",
      "source": [
        "type(inputs)"
      ],
      "metadata": {
        "colab": {
          "base_uri": "https://localhost:8080/"
        },
        "id": "mEzbdjppggfk",
        "outputId": "8237c17c-745b-4e3f-e511-e71df7d11dfe"
      },
      "execution_count": 5,
      "outputs": [
        {
          "output_type": "execute_result",
          "data": {
            "text/plain": [
              "torch.Tensor"
            ]
          },
          "metadata": {},
          "execution_count": 5
        }
      ]
    },
    {
      "cell_type": "code",
      "source": [
        "# Train the model\n",
        "n_epochs = 30\n",
        "losses = []\n",
        "for i in range(n_epochs):\n",
        "  # initialize the gradient parameters to zeros\n",
        "  optimizer.zero_grad()\n",
        "  #find the losses of the model\n",
        "  outputs = model(inputs)\n",
        "  loss = criterion(outputs,targets)\n",
        "  #keep the losses\n",
        "  losses.append(loss.item())\n",
        "  #backward and optimize the parameters\n",
        "  loss.backward()\n",
        "  optimizer.step()\n",
        "  print(f\"Epoch: {i+1}/{n_epochs}, Loss: {loss:.4f}\")"
      ],
      "metadata": {
        "colab": {
          "base_uri": "https://localhost:8080/"
        },
        "id": "sqi7xzi-giYK",
        "outputId": "e7d7188c-2814-4548-ac11-7d623266aa03"
      },
      "execution_count": 10,
      "outputs": [
        {
          "output_type": "stream",
          "name": "stdout",
          "text": [
            "Epoch: 1/30, Loss: 1.4345\n",
            "Epoch: 2/30, Loss: 1.1308\n",
            "Epoch: 3/30, Loss: 0.9359\n",
            "Epoch: 4/30, Loss: 0.8104\n",
            "Epoch: 5/30, Loss: 0.7292\n",
            "Epoch: 6/30, Loss: 0.6764\n",
            "Epoch: 7/30, Loss: 0.6416\n",
            "Epoch: 8/30, Loss: 0.6185\n",
            "Epoch: 9/30, Loss: 0.6028\n",
            "Epoch: 10/30, Loss: 0.5918\n",
            "Epoch: 11/30, Loss: 0.5840\n",
            "Epoch: 12/30, Loss: 0.5781\n",
            "Epoch: 13/30, Loss: 0.5736\n",
            "Epoch: 14/30, Loss: 0.5699\n",
            "Epoch: 15/30, Loss: 0.5668\n",
            "Epoch: 16/30, Loss: 0.5641\n",
            "Epoch: 17/30, Loss: 0.5617\n",
            "Epoch: 18/30, Loss: 0.5595\n",
            "Epoch: 19/30, Loss: 0.5574\n",
            "Epoch: 20/30, Loss: 0.5555\n",
            "Epoch: 21/30, Loss: 0.5536\n",
            "Epoch: 22/30, Loss: 0.5519\n",
            "Epoch: 23/30, Loss: 0.5502\n",
            "Epoch: 24/30, Loss: 0.5486\n",
            "Epoch: 25/30, Loss: 0.5471\n",
            "Epoch: 26/30, Loss: 0.5456\n",
            "Epoch: 27/30, Loss: 0.5442\n",
            "Epoch: 28/30, Loss: 0.5428\n",
            "Epoch: 29/30, Loss: 0.5415\n",
            "Epoch: 30/30, Loss: 0.5402\n"
          ]
        }
      ]
    },
    {
      "cell_type": "code",
      "source": [
        "plt.plot(losses)"
      ],
      "metadata": {
        "colab": {
          "base_uri": "https://localhost:8080/",
          "height": 282
        },
        "id": "_-nrLLGeiQfl",
        "outputId": "90770c99-0682-4837-fb7f-91b362071663"
      },
      "execution_count": 11,
      "outputs": [
        {
          "output_type": "execute_result",
          "data": {
            "text/plain": [
              "[<matplotlib.lines.Line2D at 0x7f4c3f07f2b0>]"
            ]
          },
          "metadata": {},
          "execution_count": 11
        },
        {
          "output_type": "display_data",
          "data": {
            "text/plain": [
              "<Figure size 432x288 with 1 Axes>"
            ],
            "image/png": "[encoded data removed]"
          },
          "metadata": {
            "needs_background": "light"
          }
        }
      ]
    },
    {
      "cell_type": "code",
      "source": [
        "predicted = model(inputs).detach().numpy()\n",
        "plt.scatter(X,Y,label=\"Real values\")\n",
        "plt.plot(X,predicted,label=\"Predicted values\")"
      ],
      "metadata": {
        "colab": {
          "base_uri": "https://localhost:8080/",
          "height": 282
        },
        "id": "JwV3QWC6ixhE",
        "outputId": "d8865f17-de64-4aed-9322-df3ffc6453e9"
      },
      "execution_count": 12,
      "outputs": [
        {
          "output_type": "execute_result",
          "data": {
            "text/plain": [
              "[<matplotlib.lines.Line2D at 0x7f4c3f056190>]"
            ]
          },
          "metadata": {},
          "execution_count": 12
        },
        {
          "output_type": "display_data",
          "data": {
            "text/plain": [
              "<Figure size 432x288 with 1 Axes>"
            ],
            "image/png": "[encoded data removed]"
          },
          "metadata": {
            "needs_background": "light"
          }
        }
      ]
    },
    {
      "cell_type": "code",
      "source": [],
      "metadata": {
        "id": "7uC1k11Tjxpf"
      },
      "execution_count": null,
      "outputs": []
    }
  ]
}