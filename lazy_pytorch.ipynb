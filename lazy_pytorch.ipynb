{
  "nbformat": 4,
  "nbformat_minor": 0,
  "metadata": {
    "colab": {
      "provenance": [],
      "authorship_tag": "ABX9TyORp/rsVk7OSc+kCFyNjDE9",
      "include_colab_link": true
    },
    "kernelspec": {
      "name": "python3",
      "display_name": "Python 3"
    },
    "language_info": {
      "name": "python"
    }
  },
  "cells": [
    {
      "cell_type": "markdown",
      "metadata": {
        "id": "view-in-github",
        "colab_type": "text"
      },
      "source": [
        "<a href=\"https://colab.research.google.com/github/AimjGuytidy/pytorch-on/blob/main/lazy_pytorch.ipynb\" target=\"_parent\"><img src=\"https://colab.research.google.com/assets/colab-badge.svg\" alt=\"Open In Colab\"/></a>"
      ]
    },
    {
      "cell_type": "code",
      "execution_count": 1,
      "metadata": {
        "id": "wDCBj_EHRDIc"
      },
      "outputs": [],
      "source": [
        " import torch\n",
        " import torch.nn as nn\n",
        " import numpy as np\n",
        " import pandas as pd\n",
        " import matplotlib.pyplot as plt"
      ]
    },
    {
      "cell_type": "markdown",
      "source": [
        "## Regression with pytorch"
      ],
      "metadata": {
        "id": "26aNazfjd7Wd"
      }
    },
    {
      "cell_type": "code",
      "source": [
        "# specify the sample size\n",
        "N = 20\n",
        "# create synthetic variable\n",
        "X = np.random.random(N) * 10 - 5\n",
        "# create target variable related to X\n",
        "Y = 0.5*X - 1 + np.random.randn(N)"
      ],
      "metadata": {
        "id": "hYzw2rShd__s"
      },
      "execution_count": 2,
      "outputs": []
    },
    {
      "cell_type": "code",
      "source": [
        "# let's visualize our data\n",
        "plt.scatter(X,Y)"
      ],
      "metadata": {
        "colab": {
          "base_uri": "https://localhost:8080/",
          "height": 284
        },
        "id": "ExrnAG-Bekb-",
        "outputId": "7ec7b96f-4685-48c2-d199-af4734460dad"
      },
      "execution_count": 3,
      "outputs": [
        {
          "output_type": "execute_result",
          "data": {
            "text/plain": [
              "<matplotlib.collections.PathCollection at 0x7fcee2220be0>"
            ]
          },
          "metadata": {},
          "execution_count": 3
        },
        {
          "output_type": "display_data",
          "data": {
            "text/plain": [
              "<Figure size 432x288 with 1 Axes>"
            ],
            "image/png": "[encoded data removed]"
          },
          "metadata": {
            "needs_background": "light"
          }
        }
      ]
    },
    {
      "cell_type": "code",
      "source": [
        "#create a model object\n",
        "model = nn.Linear(1,1)\n",
        "#create loss and optimizer objects\n",
        "criterion = nn.MSELoss()\n",
        "optimizer = torch.optim.SGD(model.parameters(),lr=0.01)\n",
        "#reshape and convert variables into tensors\n",
        "X = X.reshape(N,1)\n",
        "Y = Y.reshape(N,1)\n",
        "inputs = torch.from_numpy(X.astype(np.float32))\n",
        "targets = torch.from_numpy(Y.astype(np.float32))\n"
      ],
      "metadata": {
        "id": "_ZUet5vXeysB"
      },
      "execution_count": 4,
      "outputs": []
    },
    {
      "cell_type": "code",
      "source": [
        "type(inputs)"
      ],
      "metadata": {
        "colab": {
          "base_uri": "https://localhost:8080/"
        },
        "id": "mEzbdjppggfk",
        "outputId": "bae5c028-628d-498b-94ba-a40be3122db4"
      },
      "execution_count": 5,
      "outputs": [
        {
          "output_type": "execute_result",
          "data": {
            "text/plain": [
              "torch.Tensor"
            ]
          },
          "metadata": {},
          "execution_count": 5
        }
      ]
    },
    {
      "cell_type": "code",
      "source": [
        "# Train the model\n",
        "n_epochs = 30\n",
        "losses = []\n",
        "for i in range(n_epochs):\n",
        "  # initialize the gradient parameters to zeros\n",
        "  optimizer.zero_grad()\n",
        "  #find the losses of the model\n",
        "  outputs = model(inputs)\n",
        "  loss = criterion(outputs,targets)\n",
        "  #keep the losses\n",
        "  losses.append(loss.item())\n",
        "  #backward and optimize the parameters\n",
        "  loss.backward()\n",
        "  optimizer.step()\n",
        "  print(f\"Epoch: {i+1}/{n_epochs}, Loss: {loss:.4f}\")"
      ],
      "metadata": {
        "colab": {
          "base_uri": "https://localhost:8080/"
        },
        "id": "sqi7xzi-giYK",
        "outputId": "8ebe6175-9a0e-4177-8213-b470939b151d"
      },
      "execution_count": 6,
      "outputs": [
        {
          "output_type": "stream",
          "name": "stdout",
          "text": [
            "Epoch: 1/30, Loss: 12.7512\n",
            "Epoch: 2/30, Loss: 9.2337\n",
            "Epoch: 3/30, Loss: 6.7765\n",
            "Epoch: 4/30, Loss: 5.0591\n",
            "Epoch: 5/30, Loss: 3.8576\n",
            "Epoch: 6/30, Loss: 3.0161\n",
            "Epoch: 7/30, Loss: 2.4258\n",
            "Epoch: 8/30, Loss: 2.0109\n",
            "Epoch: 9/30, Loss: 1.7184\n",
            "Epoch: 10/30, Loss: 1.5113\n",
            "Epoch: 11/30, Loss: 1.3640\n",
            "Epoch: 12/30, Loss: 1.2585\n",
            "Epoch: 13/30, Loss: 1.1822\n",
            "Epoch: 14/30, Loss: 1.1265\n",
            "Epoch: 15/30, Loss: 1.0851\n",
            "Epoch: 16/30, Loss: 1.0538\n",
            "Epoch: 17/30, Loss: 1.0298\n",
            "Epoch: 18/30, Loss: 1.0108\n",
            "Epoch: 19/30, Loss: 0.9954\n",
            "Epoch: 20/30, Loss: 0.9827\n",
            "Epoch: 21/30, Loss: 0.9718\n",
            "Epoch: 22/30, Loss: 0.9624\n",
            "Epoch: 23/30, Loss: 0.9540\n",
            "Epoch: 24/30, Loss: 0.9465\n",
            "Epoch: 25/30, Loss: 0.9395\n",
            "Epoch: 26/30, Loss: 0.9331\n",
            "Epoch: 27/30, Loss: 0.9271\n",
            "Epoch: 28/30, Loss: 0.9214\n",
            "Epoch: 29/30, Loss: 0.9160\n",
            "Epoch: 30/30, Loss: 0.9109\n"
          ]
        }
      ]
    },
    {
      "cell_type": "code",
      "source": [
        "plt.plot(losses)"
      ],
      "metadata": {
        "colab": {
          "base_uri": "https://localhost:8080/",
          "height": 282
        },
        "id": "_-nrLLGeiQfl",
        "outputId": "19e9a791-e98f-454e-ec78-b7f03b4fc8a9"
      },
      "execution_count": 7,
      "outputs": [
        {
          "output_type": "execute_result",
          "data": {
            "text/plain": [
              "[<matplotlib.lines.Line2D at 0x7fcee00b89d0>]"
            ]
          },
          "metadata": {},
          "execution_count": 7
        },
        {
          "output_type": "display_data",
          "data": {
            "text/plain": [
              "<Figure size 432x288 with 1 Axes>"
            ],
            "image/png": "[encoded data removed]"
          },
          "metadata": {
            "needs_background": "light"
          }
        }
      ]
    },
    {
      "cell_type": "code",
      "source": [
        "predicted = model(inputs).detach().numpy()\n",
        "plt.scatter(X,Y,label=\"Real values\")\n",
        "plt.plot(X,predicted,label=\"Predicted values\")"
      ],
      "metadata": {
        "colab": {
          "base_uri": "https://localhost:8080/",
          "height": 284
        },
        "id": "JwV3QWC6ixhE",
        "outputId": "fd7bad17-babb-465a-8ba9-c61b6ab32fef"
      },
      "execution_count": 8,
      "outputs": [
        {
          "output_type": "execute_result",
          "data": {
            "text/plain": [
              "[<matplotlib.lines.Line2D at 0x7fcee00380a0>]"
            ]
          },
          "metadata": {},
          "execution_count": 8
        },
        {
          "output_type": "display_data",
          "data": {
            "text/plain": [
              "<Figure size 432x288 with 1 Axes>"
            ],
            "image/png": "[encoded data removed]"
          },
          "metadata": {
            "needs_background": "light"
          }
        }
      ]
    },
    {
      "cell_type": "code",
      "source": [
        "# get predictions without using detach\n",
        "with torch.no_grad():\n",
        "  out = model(inputs).numpy()\n",
        "out"
      ],
      "metadata": {
        "id": "7uC1k11Tjxpf",
        "colab": {
          "base_uri": "https://localhost:8080/"
        },
        "outputId": "c52fd589-31c3-46fc-b201-395a9948671e"
      },
      "execution_count": 9,
      "outputs": [
        {
          "output_type": "execute_result",
          "data": {
            "text/plain": [
              "array([[-1.6131655 ],\n",
              "       [-1.6456933 ],\n",
              "       [-1.2671573 ],\n",
              "       [ 1.8853854 ],\n",
              "       [ 0.6211126 ],\n",
              "       [-0.09247887],\n",
              "       [-2.7655349 ],\n",
              "       [-1.8348953 ],\n",
              "       [ 1.4109591 ],\n",
              "       [-1.6136254 ],\n",
              "       [ 0.7011486 ],\n",
              "       [-0.46342805],\n",
              "       [-0.27454513],\n",
              "       [-1.4569771 ],\n",
              "       [-3.0991836 ],\n",
              "       [-1.6743828 ],\n",
              "       [ 1.8567847 ],\n",
              "       [ 0.1155771 ],\n",
              "       [-0.9779047 ],\n",
              "       [-2.610651  ]], dtype=float32)"
            ]
          },
          "metadata": {},
          "execution_count": 9
        }
      ]
    },
    {
      "cell_type": "code",
      "source": [
        "# Let's check if the parameters of the model are close to the real parameters\n",
        "w = model.weight.data.numpy()\n",
        "b = model.bias.data.numpy()\n",
        "(w,b)"
      ],
      "metadata": {
        "colab": {
          "base_uri": "https://localhost:8080/"
        },
        "id": "cQcGTow20Kak",
        "outputId": "35ac90fb-3824-4e4b-9fba-28e3a44e8475"
      },
      "execution_count": 10,
      "outputs": [
        {
          "output_type": "execute_result",
          "data": {
            "text/plain": [
              "(array([[0.50783473]], dtype=float32), array([-0.5987543], dtype=float32))"
            ]
          },
          "metadata": {},
          "execution_count": 10
        }
      ]
    },
    {
      "cell_type": "markdown",
      "source": [
        "## Moore's Law Regression"
      ],
      "metadata": {
        "id": "AUi5-j9U0g-l"
      }
    },
    {
      "cell_type": "code",
      "source": [
        "# get the data\n",
        "!wget -nc https://raw.githubusercontent.com/lazyprogrammer/machine_learning_examples/master/tf2.0/moore.csv"
      ],
      "metadata": {
        "colab": {
          "base_uri": "https://localhost:8080/"
        },
        "id": "N5NYBgnX6wMA",
        "outputId": "081609b7-4bf4-4e63-a754-0efabf1be7fd"
      },
      "execution_count": 12,
      "outputs": [
        {
          "output_type": "stream",
          "name": "stdout",
          "text": [
            "--2023-02-25 23:37:33--  https://raw.githubusercontent.com/lazyprogrammer/machine_learning_examples/master/tf2.0/moore.csv\n",
            "Resolving raw.githubusercontent.com (raw.githubusercontent.com)... 185.199.108.133, 185.199.109.133, 185.199.110.133, ...\n",
            "Connecting to raw.githubusercontent.com (raw.githubusercontent.com)|185.199.108.133|:443... connected.\n",
            "HTTP request sent, awaiting response... 200 OK\n",
            "Length: 2302 (2.2K) [text/plain]\n",
            "Saving to: ‘moore.csv’\n",
            "\n",
            "\rmoore.csv             0%[                    ]       0  --.-KB/s               \rmoore.csv           100%[===================>]   2.25K  --.-KB/s    in 0s      \n",
            "\n",
            "2023-02-25 23:37:33 (48.3 MB/s) - ‘moore.csv’ saved [2302/2302]\n",
            "\n"
          ]
        }
      ]
    },
    {
      "cell_type": "code",
      "source": [
        "data = pd.read_csv(\"moore.csv\",header=None).values"
      ],
      "metadata": {
        "id": "SDhOwRmt6_DC"
      },
      "execution_count": 14,
      "outputs": []
    },
    {
      "cell_type": "code",
      "source": [
        "data.shape"
      ],
      "metadata": {
        "colab": {
          "base_uri": "https://localhost:8080/"
        },
        "id": "IuQ8WznR8bPE",
        "outputId": "3af94b13-72e9-4e6b-813c-3eed3b6b01e6"
      },
      "execution_count": 15,
      "outputs": [
        {
          "output_type": "execute_result",
          "data": {
            "text/plain": [
              "(162, 2)"
            ]
          },
          "metadata": {},
          "execution_count": 15
        }
      ]
    },
    {
      "cell_type": "code",
      "source": [
        "X = data[:,0].reshape(-1,1)\n",
        "Y = data[:,1].reshape(-1,1)"
      ],
      "metadata": {
        "id": "fMUc7SH78jR9"
      },
      "execution_count": 16,
      "outputs": []
    },
    {
      "cell_type": "code",
      "source": [
        "plt.scatter(X,Y)"
      ],
      "metadata": {
        "colab": {
          "base_uri": "https://localhost:8080/",
          "height": 293
        },
        "id": "kEMvFSKe81Te",
        "outputId": "3f1e87ac-bc9f-4eaf-9659-94901eb94aa4"
      },
      "execution_count": 17,
      "outputs": [
        {
          "output_type": "execute_result",
          "data": {
            "text/plain": [
              "<matplotlib.collections.PathCollection at 0x7fcedd288610>"
            ]
          },
          "metadata": {},
          "execution_count": 17
        },
        {
          "output_type": "display_data",
          "data": {
            "text/plain": [
              "<Figure size 432x288 with 1 Axes>"
            ],
            "image/png": "[encoded data removed]"
          },
          "metadata": {
            "needs_background": "light"
          }
        }
      ]
    },
    {
      "cell_type": "code",
      "source": [
        "# let's transform our data\n",
        "Y = np.log(Y)\n",
        "plt.scatter(X,Y)"
      ],
      "metadata": {
        "colab": {
          "base_uri": "https://localhost:8080/",
          "height": 282
        },
        "id": "SFXC1fqS90qz",
        "outputId": "2ae1e0e3-a11e-4236-d35a-564271cb662c"
      },
      "execution_count": 25,
      "outputs": [
        {
          "output_type": "execute_result",
          "data": {
            "text/plain": [
              "<matplotlib.collections.PathCollection at 0x7fcedd0862e0>"
            ]
          },
          "metadata": {},
          "execution_count": 25
        },
        {
          "output_type": "display_data",
          "data": {
            "text/plain": [
              "<Figure size 432x288 with 1 Axes>"
            ],
            "image/png": "[encoded data removed]"
          },
          "metadata": {
            "needs_background": "light"
          }
        }
      ]
    },
    {
      "cell_type": "code",
      "source": [
        "# Normalizing data values\n",
        "xmean = X.mean()\n",
        "xsd = X.std()\n",
        "ymean = Y.mean()\n",
        "ysd = Y.std()\n",
        "# normalize and standardize our data\n",
        "x = (X-xmean)/xsd\n",
        "y = (Y-ymean)/ysd\n",
        "#let's visualize the changes made\n",
        "plt.scatter(x,y)"
      ],
      "metadata": {
        "colab": {
          "base_uri": "https://localhost:8080/",
          "height": 282
        },
        "id": "g_qPoof0-d_e",
        "outputId": "795d825b-ca74-4fe2-ff99-e85560ae16c4"
      },
      "execution_count": 26,
      "outputs": [
        {
          "output_type": "execute_result",
          "data": {
            "text/plain": [
              "<matplotlib.collections.PathCollection at 0x7fcedd05cb20>"
            ]
          },
          "metadata": {},
          "execution_count": 26
        },
        {
          "output_type": "display_data",
          "data": {
            "text/plain": [
              "<Figure size 432x288 with 1 Axes>"
            ],
            "image/png": "[encoded data removed]"
          },
          "metadata": {
            "needs_background": "light"
          }
        }
      ]
    },
    {
      "cell_type": "code",
      "source": [
        "# turn data into tensors\n",
        "inputs = torch.from_numpy(x.astype(np.float32))\n",
        "targets = torch.from_numpy(y.astype(np.float32))"
      ],
      "metadata": {
        "id": "43xDyfKEBFur"
      },
      "execution_count": 28,
      "outputs": []
    },
    {
      "cell_type": "code",
      "source": [
        "# create model object\n",
        "model = nn.Linear(1,1)\n",
        "#create loss and optimizer objects\n",
        "criterion = nn.MSELoss() \n",
        "optimizer = torch.optim.SGD(model.parameters(),lr = 0.01,momentum = 0.7)\n"
      ],
      "metadata": {
        "id": "xmt6P2-6_YmV"
      },
      "execution_count": 30,
      "outputs": []
    },
    {
      "cell_type": "code",
      "source": [
        "n_epochs = 120\n",
        "losses = []\n",
        "for i in range(n_epochs):\n",
        "  # initialize the optimizers parameters\n",
        "  optimizer.zero_grad()\n",
        "  # calculate losses and outputs\n",
        "  outputs = model(inputs)\n",
        "  loss = criterion(outputs,targets)\n",
        "  losses.append(loss.item())\n",
        "  # backward and optimization\n",
        "  loss.backward()\n",
        "  optimizer.step()\n",
        "  print(f\"Epoch:{i+1}/{n_epochs}, Loss:{loss.item():.4f}\")\n"
      ],
      "metadata": {
        "colab": {
          "base_uri": "https://localhost:8080/"
        },
        "id": "MngXy_iFAOCz",
        "outputId": "85eeece3-edbc-417a-cab1-f2083b6b496c"
      },
      "execution_count": 31,
      "outputs": [
        {
          "output_type": "stream",
          "name": "stdout",
          "text": [
            "Epoch:1/120, Loss:4.3917\n",
            "Epoch:2/120, Loss:4.2193\n",
            "Epoch:3/120, Loss:3.9376\n",
            "Epoch:4/120, Loss:3.5956\n",
            "Epoch:5/120, Loss:3.2295\n",
            "Epoch:6/120, Loss:2.8636\n",
            "Epoch:7/120, Loss:2.5138\n",
            "Epoch:8/120, Loss:2.1894\n",
            "Epoch:9/120, Loss:1.8951\n",
            "Epoch:10/120, Loss:1.6324\n",
            "Epoch:11/120, Loss:1.4009\n",
            "Epoch:12/120, Loss:1.1988\n",
            "Epoch:13/120, Loss:1.0237\n",
            "Epoch:14/120, Loss:0.8730\n",
            "Epoch:15/120, Loss:0.7439\n",
            "Epoch:16/120, Loss:0.6338\n",
            "Epoch:17/120, Loss:0.5402\n",
            "Epoch:18/120, Loss:0.4608\n",
            "Epoch:19/120, Loss:0.3937\n",
            "Epoch:20/120, Loss:0.3369\n",
            "Epoch:21/120, Loss:0.2891\n",
            "Epoch:22/120, Loss:0.2488\n",
            "Epoch:23/120, Loss:0.2149\n",
            "Epoch:24/120, Loss:0.1864\n",
            "Epoch:25/120, Loss:0.1625\n",
            "Epoch:26/120, Loss:0.1424\n",
            "Epoch:27/120, Loss:0.1256\n",
            "Epoch:28/120, Loss:0.1114\n",
            "Epoch:29/120, Loss:0.0996\n",
            "Epoch:30/120, Loss:0.0897\n",
            "Epoch:31/120, Loss:0.0813\n",
            "Epoch:32/120, Loss:0.0744\n",
            "Epoch:33/120, Loss:0.0685\n",
            "Epoch:34/120, Loss:0.0636\n",
            "Epoch:35/120, Loss:0.0595\n",
            "Epoch:36/120, Loss:0.0561\n",
            "Epoch:37/120, Loss:0.0532\n",
            "Epoch:38/120, Loss:0.0508\n",
            "Epoch:39/120, Loss:0.0488\n",
            "Epoch:40/120, Loss:0.0471\n",
            "Epoch:41/120, Loss:0.0457\n",
            "Epoch:42/120, Loss:0.0445\n",
            "Epoch:43/120, Loss:0.0436\n",
            "Epoch:44/120, Loss:0.0427\n",
            "Epoch:45/120, Loss:0.0420\n",
            "Epoch:46/120, Loss:0.0415\n",
            "Epoch:47/120, Loss:0.0410\n",
            "Epoch:48/120, Loss:0.0406\n",
            "Epoch:49/120, Loss:0.0402\n",
            "Epoch:50/120, Loss:0.0399\n",
            "Epoch:51/120, Loss:0.0397\n",
            "Epoch:52/120, Loss:0.0395\n",
            "Epoch:53/120, Loss:0.0393\n",
            "Epoch:54/120, Loss:0.0392\n",
            "Epoch:55/120, Loss:0.0391\n",
            "Epoch:56/120, Loss:0.0390\n",
            "Epoch:57/120, Loss:0.0389\n",
            "Epoch:58/120, Loss:0.0388\n",
            "Epoch:59/120, Loss:0.0388\n",
            "Epoch:60/120, Loss:0.0387\n",
            "Epoch:61/120, Loss:0.0387\n",
            "Epoch:62/120, Loss:0.0387\n",
            "Epoch:63/120, Loss:0.0386\n",
            "Epoch:64/120, Loss:0.0386\n",
            "Epoch:65/120, Loss:0.0386\n",
            "Epoch:66/120, Loss:0.0386\n",
            "Epoch:67/120, Loss:0.0386\n",
            "Epoch:68/120, Loss:0.0385\n",
            "Epoch:69/120, Loss:0.0385\n",
            "Epoch:70/120, Loss:0.0385\n",
            "Epoch:71/120, Loss:0.0385\n",
            "Epoch:72/120, Loss:0.0385\n",
            "Epoch:73/120, Loss:0.0385\n",
            "Epoch:74/120, Loss:0.0385\n",
            "Epoch:75/120, Loss:0.0385\n",
            "Epoch:76/120, Loss:0.0385\n",
            "Epoch:77/120, Loss:0.0385\n",
            "Epoch:78/120, Loss:0.0385\n",
            "Epoch:79/120, Loss:0.0385\n",
            "Epoch:80/120, Loss:0.0385\n",
            "Epoch:81/120, Loss:0.0385\n",
            "Epoch:82/120, Loss:0.0385\n",
            "Epoch:83/120, Loss:0.0385\n",
            "Epoch:84/120, Loss:0.0385\n",
            "Epoch:85/120, Loss:0.0385\n",
            "Epoch:86/120, Loss:0.0385\n",
            "Epoch:87/120, Loss:0.0385\n",
            "Epoch:88/120, Loss:0.0385\n",
            "Epoch:89/120, Loss:0.0385\n",
            "Epoch:90/120, Loss:0.0385\n",
            "Epoch:91/120, Loss:0.0385\n",
            "Epoch:92/120, Loss:0.0385\n",
            "Epoch:93/120, Loss:0.0385\n",
            "Epoch:94/120, Loss:0.0385\n",
            "Epoch:95/120, Loss:0.0385\n",
            "Epoch:96/120, Loss:0.0385\n",
            "Epoch:97/120, Loss:0.0385\n",
            "Epoch:98/120, Loss:0.0385\n",
            "Epoch:99/120, Loss:0.0385\n",
            "Epoch:100/120, Loss:0.0385\n",
            "Epoch:101/120, Loss:0.0385\n",
            "Epoch:102/120, Loss:0.0385\n",
            "Epoch:103/120, Loss:0.0385\n",
            "Epoch:104/120, Loss:0.0385\n",
            "Epoch:105/120, Loss:0.0385\n",
            "Epoch:106/120, Loss:0.0385\n",
            "Epoch:107/120, Loss:0.0385\n",
            "Epoch:108/120, Loss:0.0385\n",
            "Epoch:109/120, Loss:0.0385\n",
            "Epoch:110/120, Loss:0.0385\n",
            "Epoch:111/120, Loss:0.0385\n",
            "Epoch:112/120, Loss:0.0385\n",
            "Epoch:113/120, Loss:0.0385\n",
            "Epoch:114/120, Loss:0.0385\n",
            "Epoch:115/120, Loss:0.0385\n",
            "Epoch:116/120, Loss:0.0385\n",
            "Epoch:117/120, Loss:0.0385\n",
            "Epoch:118/120, Loss:0.0385\n",
            "Epoch:119/120, Loss:0.0385\n",
            "Epoch:120/120, Loss:0.0385\n"
          ]
        }
      ]
    },
    {
      "cell_type": "code",
      "source": [
        "# let's visualize the losses journey!\n",
        "plt.plot(losses)"
      ],
      "metadata": {
        "colab": {
          "base_uri": "https://localhost:8080/",
          "height": 282
        },
        "id": "_09VWmliCeXB",
        "outputId": "186e6983-bba2-436e-a77a-1e161e3f58ef"
      },
      "execution_count": 32,
      "outputs": [
        {
          "output_type": "execute_result",
          "data": {
            "text/plain": [
              "[<matplotlib.lines.Line2D at 0x7fcedcfd4280>]"
            ]
          },
          "metadata": {},
          "execution_count": 32
        },
        {
          "output_type": "display_data",
          "data": {
            "text/plain": [
              "<Figure size 432x288 with 1 Axes>"
            ],
            "image/png": "[encoded data removed]"
          },
          "metadata": {
            "needs_background": "light"
          }
        }
      ]
    },
    {
      "cell_type": "code",
      "source": [
        "# let's visualize the fitted line to transformed data\n",
        "predicted = model(inputs).detach().numpy()\n",
        "plt.scatter(x,y,label=\"Real Transformed Data\")\n",
        "plt.plot(x,predicted,color=\"red\",label=\"Fitted line by the model\")"
      ],
      "metadata": {
        "colab": {
          "base_uri": "https://localhost:8080/",
          "height": 282
        },
        "id": "QzdmBW0AC0Yv",
        "outputId": "45691603-661c-4d70-af2b-7f69e3660d8e"
      },
      "execution_count": 34,
      "outputs": [
        {
          "output_type": "execute_result",
          "data": {
            "text/plain": [
              "[<matplotlib.lines.Line2D at 0x7fcedcf3eb80>]"
            ]
          },
          "metadata": {},
          "execution_count": 34
        },
        {
          "output_type": "display_data",
          "data": {
            "text/plain": [
              "<Figure size 432x288 with 1 Axes>"
            ],
            "image/png": "[encoded data removed]"
          },
          "metadata": {
            "needs_background": "light"
          }
        }
      ]
    },
    {
      "cell_type": "code",
      "source": [
        "# let's look at the slope parameter of our model\n",
        "w = model.weight.data.numpy()\n",
        "print(w)"
      ],
      "metadata": {
        "colab": {
          "base_uri": "https://localhost:8080/"
        },
        "id": "dlx5n3UyDRNh",
        "outputId": "5d5beaa8-63ae-45ef-d96e-617e023691dc"
      },
      "execution_count": 36,
      "outputs": [
        {
          "output_type": "stream",
          "name": "stdout",
          "text": [
            "[[0.9805094]]\n"
          ]
        }
      ]
    },
    {
      "cell_type": "code",
      "source": [],
      "metadata": {
        "id": "47e270i2DlIF"
      },
      "execution_count": null,
      "outputs": []
    }
  ]
}